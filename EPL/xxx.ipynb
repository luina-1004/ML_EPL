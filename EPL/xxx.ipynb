{
 "cells": [
  {
   "cell_type": "code",
   "execution_count": 1,
   "metadata": {},
   "outputs": [],
   "source": [
    "import pandas as pd\n",
    "import numpy as np"
   ]
  },
  {
   "cell_type": "code",
   "execution_count": null,
   "metadata": {},
   "outputs": [],
   "source": [
    "path = \"C:/Users/NTX550/Desktop/권지원/ML/EPL/ML_EPL/EPL/최종전처리_23일수정.ipynb\"\n",
    "data = "
   ]
  },
  {
   "cell_type": "code",
   "execution_count": null,
   "metadata": {},
   "outputs": [
    {
     "data": {
      "text/plain": [
       "['Brighton & Hove Albion',\n",
       " 'Nottingham Forest',\n",
       " 'Fulham',\n",
       " 'Newcastle United',\n",
       " 'West Ham United',\n",
       " 'Liverpool',\n",
       " 'Bournemouth',\n",
       " 'Manchester City',\n",
       " 'Tottenham Hotspur',\n",
       " 'Wolverhampton Wanderers',\n",
       " 'Arsenal',\n",
       " 'Leicester City',\n",
       " 'Manchester United',\n",
       " 'Brentford',\n",
       " 'Crystal Palace',\n",
       " 'Everton',\n",
       " 'Southampton',\n",
       " 'Chelsea',\n",
       " 'Aston Villa',\n",
       " 'Leeds United',\n",
       " 'Burnley',\n",
       " 'Norwich City',\n",
       " 'Watford',\n",
       " 'Sheffield United',\n",
       " 'West Bromwich Albion',\n",
       " 'Cardiff City',\n",
       " 'Huddersfield Town']"
      ]
     },
     "metadata": {},
     "output_type": "display_data"
    }
   ],
   "source": [
    "team"
   ]
  }
 ],
 "metadata": {
  "kernelspec": {
   "display_name": "base",
   "language": "python",
   "name": "python3"
  },
  "language_info": {
   "codemirror_mode": {
    "name": "ipython",
    "version": 3
   },
   "file_extension": ".py",
   "mimetype": "text/x-python",
   "name": "python",
   "nbconvert_exporter": "python",
   "pygments_lexer": "ipython3",
   "version": "3.10.9"
  },
  "orig_nbformat": 4
 },
 "nbformat": 4,
 "nbformat_minor": 2
}
